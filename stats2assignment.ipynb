{
 "cells": [
  {
   "cell_type": "markdown",
   "id": "d01bdbd6-79de-476b-8cb1-caa61fbdee4f",
   "metadata": {},
   "source": [
    "Q1. What are the three measures of central tendency?"
   ]
  },
  {
   "cell_type": "markdown",
   "id": "f3821c8b-ec7f-47cc-9e5c-d7ef39e2d06c",
   "metadata": {},
   "source": [
    "Ans. The three mesaures of central tendency are Mean,Median and Mode"
   ]
  },
  {
   "cell_type": "markdown",
   "id": "0f2cc0d1-7989-4c86-af20-d4199af80e82",
   "metadata": {},
   "source": [
    "Q2. What is the difference between the mean, median, and mode? How are they used to measure the\n",
    "central tendency of a dataset?"
   ]
  },
  {
   "cell_type": "markdown",
   "id": "6cddd930-9d53-4704-a218-a878fdc14972",
   "metadata": {},
   "source": [
    "Ans. The three measures of central tendency are:\n",
    "\n",
    "1.Mean: Mean is used to find the average of the dataset. For example, suppose we have a dataset of students' heights, and we want to set a criteria that only students above a certain height can be selected. In this case, we can use the mean.\n",
    "\n",
    "For a dataset x = {160, 170, 150, 200, 180}, the mean is calculated as:\n",
    "\n",
    "Mean = (sum of all values) / count(x) = (160 + 170 + 150 + 200 + 180) / 5 = 172 cm is the mean.\n",
    "\n",
    "2.Median: Median is used to find the middle value of the dataset. To calculate the median:\n",
    "\n",
    "First, sort the dataset. For example, for x = {4, 5, 1, 2, 3}, we sort it to {1, 2, 3, 4, 5}.\n",
    "If the length of the dataset (len(x)) is odd, the middle element is the median.\n",
    "If the length is even, find the two middle elements and calculate their mean. For example, for x = {5, 3, 4, 2, 1, 6}, after sorting, we have {1, 2, 3, 4, 5, 6}. With a length of 6 (even), the median is the mean of the two middle elements, which is (3 + 4) / 2 = 3.5\n",
    "\n",
    "3.Mode: Mode is used to find the value with the highest frequency in the dataset. For example, with the dataset x = {1, 2, 3, 4, 1, 2, 5, 6, 2, 3, 2, 2, 7, 2, 6}, the mode is indeed 2, and it appears 6 times, making it the value with the highest frequency in the dataset."
   ]
  },
  {
   "cell_type": "markdown",
   "id": "01be5557-f125-40e0-831b-90d1eb071365",
   "metadata": {},
   "source": [
    "Q3. Measure the three measures of central tendency for the given height data:\n",
    "[178,177,176,177,178.2,178,175,179,180,175,178.9,176.2,177,172.5,178,176.5]"
   ]
  },
  {
   "cell_type": "markdown",
   "id": "1649515c-cb02-416c-a78e-4872017aedaa",
   "metadata": {},
   "source": [
    "Ans. \n",
    "\n",
    "mean will be (178+177+176+177+178.2+178+175+179+180+175+178.9+176.2+177+172.5+178+176.5)/16 = 177.01\n",
    "\n",
    "median will be 172.5,175,175,176,176,177,177,178,178,178,178.2,178.9,179,180  (177+178)/2 = 177.5\n",
    "\n",
    "mode will be 178,177,176,177,178.2,178,175,179,180,175,178.9,176.2,177,172.5,178,176.5 = 177 and 178"
   ]
  },
  {
   "cell_type": "markdown",
   "id": "94563718-db35-4aaa-ad25-4faa97501d27",
   "metadata": {},
   "source": [
    "Q4. Find the standard deviation for the given data:\n",
    "[178,177,176,177,178.2,178,175,179,180,175,178.9,176.2,177,172.5,178,176.5]"
   ]
  },
  {
   "cell_type": "markdown",
   "id": "906919a9-7c47-40a0-b400-0d23083935e9",
   "metadata": {},
   "source": [
    "Ans.\n",
    "1st population variance = calculate the mean of x, take every single element and subtract it with the mean and square it, and then add every result and divide it by len(x) = 3.199023437500001.\n",
    "\n",
    "To calculate the standard deviation of the population, we have to square root the population variance, which is = 1.788581\n",
    "\n",
    "2nd for sample variance = calculate the mean of x, take every single element and subtract it with the mean and square it, and then add every result and divide it by len(x) - 1 = 3.412292.\n",
    "\n",
    "To calculate the standard deviation of the sample, we have to square root the sample variance, which is = 1.847239"
   ]
  },
  {
   "cell_type": "code",
   "execution_count": 2,
   "id": "f1e0aa41-c4a2-4a79-a46f-68b41310b544",
   "metadata": {},
   "outputs": [
    {
     "data": {
      "text/plain": [
       "a    3.199023\n",
       "dtype: float64"
      ]
     },
     "execution_count": 2,
     "metadata": {},
     "output_type": "execute_result"
    }
   ],
   "source": [
    "import pandas as pd\n",
    "df = pd.DataFrame({'a':[178,177,176,177,178.2,178,175,179,180,175,178.9,176.2,177,172.5,178,176.5]})\n",
    "#population variance\n",
    "df.var(ddof=0)"
   ]
  },
  {
   "cell_type": "code",
   "execution_count": 3,
   "id": "264d61dc-eea4-4717-ab63-03dc324043f8",
   "metadata": {},
   "outputs": [
    {
     "data": {
      "text/plain": [
       "a    1.788581\n",
       "dtype: float64"
      ]
     },
     "execution_count": 3,
     "metadata": {},
     "output_type": "execute_result"
    }
   ],
   "source": [
    "#population std\n",
    "df.std(ddof=0)"
   ]
  },
  {
   "cell_type": "code",
   "execution_count": 4,
   "id": "376d8c6d-9d17-4ed6-91a2-e832b5a4e5a5",
   "metadata": {},
   "outputs": [
    {
     "data": {
      "text/plain": [
       "a    3.412292\n",
       "dtype: float64"
      ]
     },
     "execution_count": 4,
     "metadata": {},
     "output_type": "execute_result"
    }
   ],
   "source": [
    "#sample variance\n",
    "df.var(ddof=1)"
   ]
  },
  {
   "cell_type": "code",
   "execution_count": 5,
   "id": "49a2e34a-3132-408a-b08e-673cd911314b",
   "metadata": {},
   "outputs": [
    {
     "data": {
      "text/plain": [
       "a    1.847239\n",
       "dtype: float64"
      ]
     },
     "execution_count": 5,
     "metadata": {},
     "output_type": "execute_result"
    }
   ],
   "source": [
    "#sample std\n",
    "df.std(ddof=1)"
   ]
  },
  {
   "cell_type": "markdown",
   "id": "7638b51a-e456-49ab-8758-ee0e55d2c40c",
   "metadata": {},
   "source": [
    "Q5. How are measures of dispersion such as range, variance, and standard deviation used to describe\n",
    "the spread of a dataset? Provide an example."
   ]
  },
  {
   "cell_type": "markdown",
   "id": "fb01a548-0440-422e-a881-103c14deac3a",
   "metadata": {},
   "source": [
    "Ans.\n",
    "1.Variance is used to show how much the spread of data with respect to the mean by calculating the mean of the data points and subtracting from every data point, squaring the result, and then summing these squared differences. Finally, you divide the result by N (for population variance) or by n-1 (for sample variance).\n",
    "\n",
    "For example, let's calculate the marks of 5 students: x = [60, 75, 80, 85, 90]. The mean is (60 + 75 + 80 + 85 + 90) / 5 = 78. Then, calculate the variance by subtracting each data point from the mean, squaring the result, summing these squared differences, and dividing by N (for population variance) or by n-1 (for sample variance). The population variance is 106, and the sample variance is 132.5.\n",
    "\n",
    "2.The standard deviation is a measure of how much individual data points typically deviate from the mean. To calculate it, we take the square root of the population variance (for population standard deviation) or the square root of the sample variance (for sample standard deviation). It helps us understand the spread of data based on the range of standard deviations.\n",
    "\n",
    "For example, using the previously calculated variances, the population standard deviation is approximately 10.29563, and the sample standard deviation is approximately 11.51086.\n",
    "\n",
    "3.Range is the difference between the largest number and the smallest number in the dataset. The larger the difference, the more spread out the data is, and the smaller the difference, the less spread out the data is.\n",
    "\n",
    "For example, if you have a dataset x = [60, 75, 80, 85, 90], the range is calculated as the difference between the largest value (90) and the smallest value (60), resulting in a range of 30. This provides a simple way to describe the spread of the data"
   ]
  },
  {
   "cell_type": "markdown",
   "id": "12ceabed-faf7-4320-8184-f064a18687f8",
   "metadata": {},
   "source": [
    "Q6. What is a Venn diagram?"
   ]
  },
  {
   "cell_type": "markdown",
   "id": "08d4119c-429b-4dd9-bb1e-293175dc7441",
   "metadata": {},
   "source": [
    "Ans. Venn diagram is a way through which we can show the relation between two sets, including concepts like union, intersection, complement. In a Venn diagram, there are two circles, half overlapping each other inside a rectangular box.\n",
    "\n",
    "Intersection - the set of all the elements that are present inside the overlapped region is called the intersection (common elements).\n",
    "\n",
    "Union - the set of all the elements present in both the circles, excluding duplicates, is called the union.\n",
    "\n",
    "Complement - the set of all elements that are not present in the two circles is called complements."
   ]
  },
  {
   "cell_type": "markdown",
   "id": "6c6e7ef6-56e8-4be6-aa4e-27db3b090fdf",
   "metadata": {},
   "source": [
    "Q7. For the two given sets A = (2,3,4,5,6,7) & B = (0,2,6,8,10). Find:\n",
    "\n",
    "(i) A ∩ B\n",
    "\n",
    "(ii) A ⋃ B"
   ]
  },
  {
   "cell_type": "markdown",
   "id": "26e09b06-b65b-45eb-961b-1ac45365c246",
   "metadata": {},
   "source": [
    "Ans. A ∩ B = {2,6}\n",
    "\n",
    "A U B = {0,2,3,4,5,6,7,8,10}"
   ]
  },
  {
   "cell_type": "markdown",
   "id": "c8a651de-be8c-44be-853b-01dd7756045b",
   "metadata": {},
   "source": [
    "Q8. What do you understand about skewness in data?"
   ]
  },
  {
   "cell_type": "markdown",
   "id": "dba61a2a-30d2-4159-a7bc-3b19ce2119a6",
   "metadata": {},
   "source": [
    "Ans. Skewness in data means that the data is not distributed proportionally. When we plot a histogram in a graph, we can see that the bell curve will be plotted irregularly. On one side, the data will be high, and on another side, it will be low.\n",
    "\n",
    "There are 3 types of skewness:\n",
    "\n",
    "Normal/Gaussian distribution - there will be no skewness, in this the bell curve will be symmetric. 50% of data will be on one side, and 50% on the other. Here mean = median = mode, which will be at the center.\n",
    "\n",
    "Right-skewed distribution: the data with high frequency will be on the left side compared to the right. The curve will be upper on the left and lower on the right. Here mean > median > mode.\n",
    "\n",
    "Left-skewed distribution: the data with high frequency will be highly present on the right side compared to the left. Here the curve will be upper on the right and lower on the left. Here mean < median < mode."
   ]
  },
  {
   "cell_type": "markdown",
   "id": "c01b17eb-f9da-4b6c-bfbf-e43be2aa0bcf",
   "metadata": {},
   "source": [
    "Q9. If a data is right skewed then what will be the position of median with respect to mean?"
   ]
  },
  {
   "cell_type": "markdown",
   "id": "24c2a843-d047-49ea-862b-1baf941b2048",
   "metadata": {},
   "source": [
    "Ans. If the data is right skewed then the position of median will be less with respect to mean "
   ]
  },
  {
   "cell_type": "markdown",
   "id": "c64a2264-fdb3-4788-b6ca-16a6fad79d4d",
   "metadata": {},
   "source": [
    "Q10. Explain the difference between covariance and correlation. How are these measures used in\n",
    "statistical analysis?"
   ]
  },
  {
   "cell_type": "markdown",
   "id": "94e6c048-b568-48fa-a1e1-4aa27ec4c5bc",
   "metadata": {},
   "source": [
    "Ans. Correlation means  the relationship between the x and y attributes , this relationship mainly consists of if x increase y increase if x decreases y increases if x increase y decreases and if x decreases y increases \n",
    "\n",
    "Covariance on the other hand is to check how much does one attribute has effect on the other attribute by calculating the variance of x and y cov(x,y) we get either positive value(positive covariance) or negative value(negative covariance) but the problem is after finding the cov(x,y) there is no limit of how much the positively or negatively both values are that's why we use 2 methods Pearson and spearman both of them ranges from [-1 to +1] value more towards -1 is negatively correlated and value more towards+1 is positively correlated"
   ]
  },
  {
   "cell_type": "markdown",
   "id": "71f50d41-20dc-46a3-8845-27ba5246adbd",
   "metadata": {},
   "source": [
    "Q11. What is the formula for calculating the sample mean? Provide an example calculation for a\n",
    "dataset."
   ]
  },
  {
   "cell_type": "markdown",
   "id": "921462de-de19-4dd6-bf3c-f5361e7eefaa",
   "metadata": {},
   "source": [
    "Ans. sample mean(x bar) = Σ of i=1 to n (xi)/n \n",
    "\n",
    "for exaple dataset of weight x = [65,77.6,91.3,55,82] (65+77.6+91.3+55+82)/5= 74.18\n"
   ]
  },
  {
   "cell_type": "markdown",
   "id": "cd9e5612-c72c-4684-958e-3029d25cf2fc",
   "metadata": {},
   "source": [
    "Q12. For a normal distribution data what is the relationship between its measure of central tendency?"
   ]
  },
  {
   "cell_type": "markdown",
   "id": "b8579c2e-e7b0-4362-8265-00fbee16d230",
   "metadata": {},
   "source": [
    "For a normal distribution of data, which means that the data is equally distributed on both sides along the x-axis, there will be no skewness in the bell curve. The relationship between measures of central tendency will be mean = median = mode. They will be at the center of the x-axis."
   ]
  },
  {
   "cell_type": "markdown",
   "id": "f79d52de-2e8b-4af3-9100-f528856d6444",
   "metadata": {},
   "source": [
    "Q13. How is covariance different from correlation?"
   ]
  },
  {
   "cell_type": "markdown",
   "id": "71b33c1c-d33e-44f7-adf2-ae722ddde71c",
   "metadata": {},
   "source": [
    "The difference between covariance and correlation is that covariance is used to find the relationship between the x and y attributes, and covariance is used to find how much the x attribute has an effect on the y attribute, or vice versa, by using the mathematical formula of cov(x, y). Here, two methods are mostly used: Spearman and Pearson. Both range from [-1 to +1]. A value toward -1 means that the attributes are negatively correlated with each other, and a value toward +1 means that the attributes are positively correlated with each other."
   ]
  },
  {
   "cell_type": "markdown",
   "id": "9c3fb9c0-bf95-4efd-9575-408030cdbd92",
   "metadata": {},
   "source": [
    "Q14. How do outliers affect measures of central tendency and dispersion? Provide an example."
   ]
  },
  {
   "cell_type": "markdown",
   "id": "25d3c774-33fd-46f0-82b2-458ca78bc682",
   "metadata": {},
   "source": [
    "Outliers are those values which impact the dataset by a high or low margin, which causes the ML model to behave inaccurately. It causes a major effect while calculating MoCT.\n",
    "\n",
    "For example, suppose x = {1, 2, 3, 4, 5} and y = {1, 2, 3, 4, 50}. When we calculate the mean of x and y, it is 3 and 12. Here we can see that by just one data point in y, the variance is increased, even though the initial elements were the same in x and y. This data point is called an outlier.\n",
    "\n",
    "Sample var(x) = 2.5 and sample var(y) = 452.5. This is how much data is spread due to an outlier"
   ]
  },
  {
   "cell_type": "code",
   "execution_count": null,
   "id": "efbf763e-f32d-4a1e-bdf5-9c4e11e6c695",
   "metadata": {},
   "outputs": [],
   "source": []
  }
 ],
 "metadata": {
  "kernelspec": {
   "display_name": "Python 3 (ipykernel)",
   "language": "python",
   "name": "python3"
  },
  "language_info": {
   "codemirror_mode": {
    "name": "ipython",
    "version": 3
   },
   "file_extension": ".py",
   "mimetype": "text/x-python",
   "name": "python",
   "nbconvert_exporter": "python",
   "pygments_lexer": "ipython3",
   "version": "3.10.8"
  }
 },
 "nbformat": 4,
 "nbformat_minor": 5
}
